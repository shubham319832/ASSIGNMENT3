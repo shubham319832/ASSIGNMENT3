{
 "cells": [
  {
   "cell_type": "code",
   "execution_count": null,
   "id": "d7e520dd",
   "metadata": {},
   "outputs": [],
   "source": [
    "01 : Write a function to return nth term of Fibonacci sequence.¶\n"
   ]
  },
  {
   "cell_type": "code",
   "execution_count": null,
   "id": "549cbeb5",
   "metadata": {},
   "outputs": [],
   "source": [
    "\n",
    "def fib(n):\n",
    "    if n==1:\n",
    "        return 0\n",
    "    elif n==2 or n==3:\n",
    "         return 1\n",
    "    else:\n",
    "        pre=1\n",
    "        cur=1\n",
    "        nxt=0\n",
    "        n=n-3\n",
    "        while n>0:\n",
    "            nxt=pre+cur\n",
    "            pre=cur\n",
    "            cur=nxt\n",
    "            n-=1\n",
    "        return nxt\n",
    "   "
   ]
  },
  {
   "cell_type": "code",
   "execution_count": 5,
   "id": "fa3317d6",
   "metadata": {},
   "outputs": [
    {
     "name": "stdout",
     "output_type": "stream",
     "text": [
      "3\n",
      "Fibonacci series 3 th Term is : 1\n"
     ]
    }
   ],
   "source": [
    "num=int(input())\n",
    "print('Fibonacci series',num,'th Term is :',fib(num))"
   ]
  },
  {
   "cell_type": "code",
   "execution_count": null,
   "id": "96fdc0c1",
   "metadata": {},
   "outputs": [],
   "source": [
    "\n",
    "02 : Write a function to find out GCD of two numbers using EUCLID'S algorithm."
   ]
  },
  {
   "cell_type": "code",
   "execution_count": 6,
   "id": "b28a7802",
   "metadata": {},
   "outputs": [
    {
     "name": "stdout",
     "output_type": "stream",
     "text": [
      "1112\n",
      "2552\n",
      "Gcd of 2552 1112 is : 8\n"
     ]
    }
   ],
   "source": [
    "def gcd(num1,num2):\n",
    "    while num2>0:\n",
    "        rem=num1%num2\n",
    "        num1=num2\n",
    "        num2=rem \n",
    "    return num1\n",
    "\n",
    "num1=int(input())\n",
    "num2=int(input())\n",
    "if num1>num2:\n",
    "    print('Gcd of',num1,num2,'is :',gcd(num1,num2))\n",
    "else:\n",
    "    print('Gcd of',num2,num1,'is :',gcd(num2,num1))"
   ]
  },
  {
   "cell_type": "code",
   "execution_count": null,
   "id": "31b00597",
   "metadata": {},
   "outputs": [],
   "source": [
    "03 :Write a function to find LCM of two number in most optimizers way."
   ]
  },
  {
   "cell_type": "code",
   "execution_count": 7,
   "id": "de3b441d",
   "metadata": {},
   "outputs": [
    {
     "name": "stdout",
     "output_type": "stream",
     "text": [
      "12\n",
      "3\n",
      "Lcm of  12 3 is : 12\n"
     ]
    }
   ],
   "source": [
    "def lcm(num1,num2):\n",
    "    return (num1//gcd(num1,num2))*num2\n",
    "num1=int(input())\n",
    "num2=int(input())\n",
    "print('Lcm of ',num1,num2,'is :',lcm(num1,num2))"
   ]
  },
  {
   "cell_type": "code",
   "execution_count": null,
   "id": "386dcd53",
   "metadata": {},
   "outputs": [],
   "source": []
  }
 ],
 "metadata": {
  "kernelspec": {
   "display_name": "Python 3",
   "language": "python",
   "name": "python3"
  },
  "language_info": {
   "codemirror_mode": {
    "name": "ipython",
    "version": 3
   },
   "file_extension": ".py",
   "mimetype": "text/x-python",
   "name": "python",
   "nbconvert_exporter": "python",
   "pygments_lexer": "ipython3",
   "version": "3.8.8"
  }
 },
 "nbformat": 4,
 "nbformat_minor": 5
}
